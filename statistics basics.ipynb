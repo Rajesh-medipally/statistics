{
 "cells": [
  {
   "cell_type": "markdown",
   "metadata": {},
   "source": [
    "# statistics is a diciplane that concerns the collection, organisation, analysis, interpretation and presentation of the data"
   ]
  },
  {
   "cell_type": "markdown",
   "metadata": {},
   "source": [
    "### there are two types of statistics descriptive statistics and inferal statistics"
   ]
  },
  {
   "cell_type": "markdown",
   "metadata": {},
   "source": [
    "### descriptive data is all about analysing, summarising, and organising the data in the form of numbers and graphs \n",
    "\n",
    "ex: bat plot, histogram, pychart, pdf ,cdf etc...."
   ]
  },
  {
   "cell_type": "markdown",
   "metadata": {},
   "source": [
    "### inferential statistics deals with, coming to the decision for a selected population on the bases of collected smaple data\n",
    "\n",
    "it deals with mostly confidence invtervals\n",
    "\n",
    "ex: z test,  hypothesis testchi square test"
   ]
  },
  {
   "cell_type": "code",
   "execution_count": null,
   "metadata": {},
   "outputs": [],
   "source": []
  }
 ],
 "metadata": {
  "kernelspec": {
   "display_name": "Python 3",
   "language": "python",
   "name": "python3"
  },
  "language_info": {
   "codemirror_mode": {
    "name": "ipython",
    "version": 3
   },
   "file_extension": ".py",
   "mimetype": "text/x-python",
   "name": "python",
   "nbconvert_exporter": "python",
   "pygments_lexer": "ipython3",
   "version": "3.8.5"
  }
 },
 "nbformat": 4,
 "nbformat_minor": 4
}
