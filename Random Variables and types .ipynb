{
 "cells": [
  {
   "cell_type": "markdown",
   "metadata": {},
   "source": [
    "## Random Variable  is nothing but a same as like normal variable in any kind of system language, like in java, python. \n",
    "\n",
    "## The only thing it called Random is because, in datasets it can be any thing. \n",
    "## basically, A random variable is a variable whose value is unknown or a function that assigns values to each of an experiment's outcomes."
   ]
  },
  {
   "cell_type": "markdown",
   "metadata": {},
   "source": [
    "### Random variables are 2 types, \n",
    "### -> numerical random variable\n",
    "### -> categorial random variable"
   ]
  },
  {
   "cell_type": "markdown",
   "metadata": {},
   "source": [
    "### Numerical Random Variable is basically any number in a dataset. \n",
    "### ex: {22,5,4,5,22,4,5,78,96,445,12254,44}"
   ]
  },
  {
   "cell_type": "markdown",
   "metadata": {},
   "source": [
    "### Categoriacal Random Variable is, where it has catogiries in it\n",
    "### ex:{male,female}\n",
    "### in this example the 2 kinds of data only repeats all over the set, it represents a gender category"
   ]
  },
  {
   "cell_type": "markdown",
   "metadata": {},
   "source": [
    "## ***Numerical Random Variables are also 2 types"
   ]
  },
  {
   "cell_type": "markdown",
   "metadata": {},
   "source": [
    "### -> Continues Radom Variable \n",
    "### -> Discreate Random Variable"
   ]
  },
  {
   "cell_type": "markdown",
   "metadata": {},
   "source": [
    "### Contiues Random Variable is, where the numbers will may or may not have the limit and it goes on accordingly\n",
    "### ex: salary dataset of the company \n",
    "### here the salary set depends on employee set and it can be changed "
   ]
  },
  {
   "cell_type": "markdown",
   "metadata": {},
   "source": [
    "### Discreate Random Variable is nothing but a set having finite numbers \n",
    "### ex: a dataset of family members\n",
    "### change of data can be happened on the very rare occasions"
   ]
  },
  {
   "cell_type": "code",
   "execution_count": null,
   "metadata": {},
   "outputs": [],
   "source": []
  }
 ],
 "metadata": {
  "kernelspec": {
   "display_name": "Python 3",
   "language": "python",
   "name": "python3"
  },
  "language_info": {
   "codemirror_mode": {
    "name": "ipython",
    "version": 3
   },
   "file_extension": ".py",
   "mimetype": "text/x-python",
   "name": "python",
   "nbconvert_exporter": "python",
   "pygments_lexer": "ipython3",
   "version": "3.8.5"
  }
 },
 "nbformat": 4,
 "nbformat_minor": 4
}
