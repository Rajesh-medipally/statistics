{
 "cells": [
  {
   "cell_type": "code",
   "execution_count": 1,
   "metadata": {},
   "outputs": [],
   "source": [
    "def detect_outliers( dataset, standard_deviation) :\n",
    "     threshold=standard_deviation\n",
    "     mean = np.mean(dataset)\n",
    "     std =np.std(dataset)\n",
    "    \n",
    "    \n",
    "     for i in dataset:\n",
    "        z_score= (i - mean)/std \n",
    "        if np.abs(z_score) > threshold:  \n",
    "            outliers.append(i)\n",
    "     return outliers\n"
   ]
  },
  {
   "cell_type": "code",
   "execution_count": null,
   "metadata": {},
   "outputs": [],
   "source": []
  }
 ],
 "metadata": {
  "_draft": {
   "nbviewer_url": "https://gist.github.com/56c367b7b1ebeab1792862de8b67f130"
  },
  "gist": {
   "data": {
    "description": "Documents/GitHub/statistics/Detect outliers by Z_score.ipynb",
    "public": true
   },
   "id": "56c367b7b1ebeab1792862de8b67f130"
  },
  "kernelspec": {
   "display_name": "Python 3",
   "language": "python",
   "name": "python3"
  },
  "language_info": {
   "codemirror_mode": {
    "name": "ipython",
    "version": 3
   },
   "file_extension": ".py",
   "mimetype": "text/x-python",
   "name": "python",
   "nbconvert_exporter": "python",
   "pygments_lexer": "ipython3",
   "version": "3.8.5"
  }
 },
 "nbformat": 4,
 "nbformat_minor": 4
}
