{
 "cells": [
  {
   "cell_type": "code",
   "execution_count": 1,
   "metadata": {},
   "outputs": [],
   "source": [
    "def detect_outliers_by_IQR( dataset) :\n",
    "    ## sorting the dataset\n",
    "    s_dataset=sorted(dataset)\n",
    "    ## finding the q1 and q3 with respect to percentiles 25,75\n",
    "    quantile1, quantile3 = np.percentile(dataset,[25,75])\n",
    "    ## finding the IQR range\n",
    "    iqr_range = quantile3 - quantile1\n",
    "    lower_bound_val = quantile1 -(1.5 * iqr_range) \n",
    "    upper_bound_val = quantile3 +(1.5 * iqr_range)\n",
    "    return lower_bound_val,upper_bound_val"
   ]
  },
  {
   "cell_type": "code",
   "execution_count": null,
   "metadata": {},
   "outputs": [],
   "source": []
  }
 ],
 "metadata": {
  "_draft": {
   "nbviewer_url": "https://gist.github.com/22116fcba49dd83b8520490a5acb8b95"
  },
  "gist": {
   "data": {
    "description": "Documents/GitHub/statistics/Detect outliers with IQR method.ipynb",
    "public": true
   },
   "id": "22116fcba49dd83b8520490a5acb8b95"
  },
  "kernelspec": {
   "display_name": "Python 3",
   "language": "python",
   "name": "python3"
  },
  "language_info": {
   "codemirror_mode": {
    "name": "ipython",
    "version": 3
   },
   "file_extension": ".py",
   "mimetype": "text/x-python",
   "name": "python",
   "nbconvert_exporter": "python",
   "pygments_lexer": "ipython3",
   "version": "3.8.5"
  }
 },
 "nbformat": 4,
 "nbformat_minor": 4
}
